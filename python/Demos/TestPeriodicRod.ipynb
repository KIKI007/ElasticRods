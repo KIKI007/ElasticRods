{
 "cells": [
  {
   "cell_type": "code",
   "execution_count": 1,
   "metadata": {},
   "outputs": [],
   "source": [
    "import sys; sys.path.append('../')\n",
    "import elastic_rods, scipy, numpy as np, time, matplotlib\n",
    "\n",
    "import matplotlib.pyplot as plt\n",
    "\n",
    "# from numpy.random import uniform as random\n",
    "# from scipy.ndimage import gaussian_filter\n",
    "# from scipy.signal import find_peaks\n",
    "# from copy import copy, deepcopy\n",
    "# import pickle\n",
    "# import linkage_vis, vis\n",
    "from bending_validation import suppress_stdout as so\n",
    "\n",
    "# from helpers_forces import *\n",
    "# from helpers_rods import boundingBox, compute_material_vars\n",
    "\n",
    "import finite_diff\n",
    "\n",
    "from linkage_vis import LinkageViewer as Viewer, CenterlineViewer\n",
    "import vis\n",
    "# from tri_mesh_viewer import LineMeshViewer, RawMesh\n",
    "# from tri_mesh_viewer import PointCloudViewer, PointCloudMesh\n",
    "\n",
    "# from helpers_rods import define_periodic_rod, define_periodic_circle, periodic_scalar_field\n",
    "\n",
    "np.set_printoptions(formatter={'float_kind':\"{:.6e}\".format})\n",
    "%load_ext autoreload\n",
    "%autoreload 2"
   ]
  },
  {
   "cell_type": "markdown",
   "metadata": {},
   "source": [
    "# Test periodic rod\n",
    " - [Derivatives, in blocks (ipc-toolkit)](#sec:derivatives_blocks_ipc)\n",
    " - [Derivatives, in blocks (sliding contacts)](#sec:derivatives_blocks_sliding)\n",
    " - [Derivatives close to the connection](#sec:derivatives_connection) \n",
    " - [$\\epsilon$-projection](#sec:projection)\n",
    " - [C-R interpolation](#sec:cr_interp)\n",
    " - [Visualisation](#sec:visualisation)\n",
    " - [Optimization](#sec:optimization)"
   ]
  },
  {
   "cell_type": "markdown",
   "metadata": {},
   "source": [
    "----"
   ]
  },
  {
   "cell_type": "markdown",
   "metadata": {
    "tags": []
   },
   "source": [
    "# Test `PeriodicRodsList`'s derivatives"
   ]
  },
  {
   "cell_type": "code",
   "execution_count": 2,
   "metadata": {},
   "outputs": [],
   "source": [
    "def define_periodic_rod(pts, material, rest_curv_rad=np.inf, twist=0.0):\n",
    "    duplicated_0 = np.linalg.norm(pts[0, :] - pts[-2, :]) < 1e-12\n",
    "    duplicated_1 = np.linalg.norm(pts[1, :] - pts[-1, :]) < 1e-12\n",
    "    if not duplicated_0 and not duplicated_1:\n",
    "        pts = np.vstack((pts, pts[0, :], pts[1, :]))\n",
    "    elif duplicated_0 != duplicated_1:\n",
    "        raise ValueError(\"Only one of the first two nodes was duplicated.\")\n",
    "        \n",
    "    pr = elastic_rods.PeriodicRod(pts, zeroRestCurvature=True)  # always set rest curvature to 0, then eventually modify restKappas\n",
    "    pr.setMaterial(material)\n",
    "    pr.twist = twist\n",
    "    \n",
    "    # if twist is None:  # TODO: this looks like a hack... can we make twist zero at initialization?  Also: pr.twist is very bad naming, rename to something like openingAngle * 2pi\n",
    "    #     pr.twist = 0.0\n",
    "    #     elastic_knots.minimize_twist(pr.rod)\n",
    "    # else:\n",
    "    #     pr.twist = twist\n",
    "    \n",
    "    # Set rest curvature\n",
    "    if rest_curv_rad != np.inf:\n",
    "        rest_lengths = np.linalg.norm(np.diff(pts, axis=0), axis=1)\n",
    "        rest_kappas = compute_rest_kappas(rest_curv_rad=rest_curv_rad, rest_lengths=rest_lengths)\n",
    "        pr.rod.setRestKappas(rest_kappas)\n",
    "        \n",
    "    # Set the bending energy type to match the definition from [Bergou et al. 2010]\n",
    "    # The bending energy in [Bergou et al. 2008] is technically non-physical.\n",
    "    pr.rod.bendingEnergyType = elastic_rods.BendingEnergyType.Bergou2010\n",
    "\n",
    "    return pr\n",
    "\n",
    "\n",
    "def define_periodic_circle(npts, material, r, translation=np.array([0, 0, 0]), x_noise=0, y_noise=0, z_noise=0):\n",
    "    \"\"\"\n",
    "    Regular polygon with `npts` edges, used to test some features of `PeriodicRod`.\n",
    "    \"\"\"\n",
    "    t = np.linspace(0, 2 * np.pi, npts, endpoint=False)\n",
    "    dx = x_noise*np.random.uniform(-1, 1, t.size)\n",
    "    dy = y_noise*np.random.uniform(-1, 1, t.size)\n",
    "    dz = z_noise*np.random.uniform(-1, 1, t.size)\n",
    "    t = np.concatenate([t, t[0:2]])\n",
    "    dx = np.concatenate([dx, dx[0:2]])\n",
    "    dy = np.concatenate([dy, dy[0:2]])\n",
    "    dz = np.concatenate([dz, dz[0:2]])\n",
    "    pts = np.column_stack([r * np.cos(t) + dx, r * np.sin(t) + dy, dz]) + translation\n",
    "    return define_periodic_rod(pts, material)"
   ]
  },
  {
   "cell_type": "markdown",
   "metadata": {},
   "source": [
    "## Test single `PeriodicRod`"
   ]
  },
  {
   "cell_type": "code",
   "execution_count": 3,
   "metadata": {},
   "outputs": [],
   "source": [
    "# Define PeriodicRod\n",
    "r = 1\n",
    "rod_radius = 0.1\n",
    "z_noise = 1e-2*r\n",
    "twist = 1e-1\n",
    "material = elastic_rods.RodMaterial('ellipse', 2000, 0.3, [rod_radius, rod_radius])\n",
    "pr = define_periodic_circle(npts=6, material=material, r=r, z_noise=z_noise)\n",
    "pr.twist = twist\n",
    "npts = pr.numVertices()"
   ]
  },
  {
   "cell_type": "code",
   "execution_count": 4,
   "metadata": {},
   "outputs": [
    {
     "name": "stderr",
     "output_type": "stream",
     "text": [
      "/home/mvidulis/miniconda3/envs/elastic_knots/lib/python3.10/site-packages/jupyter_client/session.py:718: UserWarning: Message serialization failed with:\n",
      "Out of range float values are not JSON compliant\n",
      "Supporting this message is deprecated in jupyter-client 7, please make sure your message is JSON-compliant\n",
      "  content = self.pack(content)\n"
     ]
    },
    {
     "data": {
      "application/vnd.jupyter.widget-view+json": {
       "model_id": "9f89e6c176d44d19801e23a827a0a0a4",
       "version_major": 2,
       "version_minor": 0
      },
      "text/plain": [
       "Renderer(camera=PerspectiveCamera(aspect=1.3333333333333333, children=(PointLight(color='white', intensity=0.6…"
      ]
     },
     "metadata": {},
     "output_type": "display_data"
    }
   ],
   "source": [
    "# Visualise PeriodicRod\n",
    "width, height = 640, 480\n",
    "view = Viewer(pr, width=width, height=height)\n",
    "view.show()"
   ]
  },
  {
   "cell_type": "markdown",
   "metadata": {},
   "source": [
    "### Test derivatives in random direction"
   ]
  },
  {
   "cell_type": "code",
   "execution_count": 10,
   "metadata": {},
   "outputs": [],
   "source": [
    "seed = 0\n",
    "np.random.seed(seed)\n",
    "direction = np.random.uniform(-1, 1, pr.numDoF())"
   ]
  },
  {
   "cell_type": "code",
   "execution_count": 11,
   "metadata": {},
   "outputs": [
    {
     "data": {
      "image/png": "[encoded data removed]",
      "text/plain": [
       "<Figure size 432x288 with 1 Axes>"
      ]
     },
     "metadata": {
      "needs_background": "light"
     },
     "output_type": "display_data"
    }
   ],
   "source": [
    "finite_diff.gradient_convergence_plot(pr, direction=direction)"
   ]
  },
  {
   "cell_type": "code",
   "execution_count": 12,
   "metadata": {},
   "outputs": [
    {
     "data": {
      "image/png": "[encoded data removed]",
      "text/plain": [
       "<Figure size 432x288 with 1 Axes>"
      ]
     },
     "metadata": {
      "needs_background": "light"
     },
     "output_type": "display_data"
    }
   ],
   "source": [
    "finite_diff.hessian_convergence_plot(pr, direction=direction)"
   ]
  },
  {
   "cell_type": "markdown",
   "metadata": {},
   "source": [
    "<a id='sec:derivatives_blocks_ipc'></a>\n",
    "## Test derivatives (IPC)"
   ]
  },
  {
   "cell_type": "code",
   "execution_count": 3,
   "metadata": {},
   "outputs": [],
   "source": [
    "# Define rods\n",
    "r = 1\n",
    "rod_radius = 0.1\n",
    "z_noise = 1e-2*r\n",
    "twist = 1e-1\n",
    "material = elastic_rods.RodMaterial('ellipse', 2000, 0.3, [rod_radius, rod_radius])\n",
    "pr0 = define_periodic_circle(npts=6, material=material, r=r, z_noise=z_noise)\n",
    "pr1 = define_periodic_circle(npts=10, material=material, r=r, translation=np.array([0.8*r, 0, 2*rod_radius]), z_noise=z_noise)\n",
    "pr0.twist = twist\n",
    "pr1.twist = twist\n",
    "rod_list = elastic_knots.PeriodicRodsList([pr0, pr1])\n",
    "# rod_list = elastic_knots.PeriodicRodsList([pr1])\n",
    "npts = rod_list.numVertices()"
   ]
  },
  {
   "cell_type": "code",
   "execution_count": 3,
   "metadata": {},
   "outputs": [
    {
     "name": "stderr",
     "output_type": "stream",
     "text": [
      "/home/mvidulis/miniconda3/envs/elastic_knots/lib/python3.10/site-packages/jupyter_client/session.py:718: UserWarning: Message serialization failed with:\n",
      "Out of range float values are not JSON compliant\n",
      "Supporting this message is deprecated in jupyter-client 7, please make sure your message is JSON-compliant\n",
      "  content = self.pack(content)\n"
     ]
    },
    {
     "data": {
      "application/vnd.jupyter.widget-view+json": {
       "model_id": "86076664c30f4113a4a8518d3090a300",
       "version_major": 2,
       "version_minor": 0
      },
      "text/plain": [
       "Renderer(camera=PerspectiveCamera(aspect=1.3333333333333333, children=(PointLight(color='#999999', position=(0…"
      ]
     },
     "metadata": {},
     "output_type": "display_data"
    }
   ],
   "source": [
    "# Define problem\n",
    "initialContacts = []\n",
    "contactOptions = elastic_knots.SlidingContactOptions()\n",
    "contactOptions.dHat = 2.5*rod_radius\n",
    "problemOptions = elastic_knots.SlidingProblemOptions()\n",
    "problemOptions.contactType = elastic_knots.ContactType.IPC\n",
    "problemOptions.minConstraintDistance = contactOptions.dHat\n",
    "\n",
    "# problemOptions.flatConstrStiffness = 1e1\n",
    "# # problemOptions.flatConstrAxis = 0\n",
    "# flatConstrDir = np.random.rand(3)\n",
    "# flatConstrDir /= np.linalg.norm(flatConstrDir)\n",
    "# problemOptions.flatConstrDirection = flatConstrDir\n",
    "\n",
    "problem = elastic_knots.SlidingProblem(rod_list, initialContacts, problemOptions, contactOptions)\n",
    "\n",
    "softConstraints = [\n",
    "    elastic_knots.FlatnessConstraint(stiffness=1, n=[1, 2, 3], center=[0.1, 0.3, 0.5], upper_d=0.2, lower_d=0.1),        # Test point out of lower bound\n",
    "    elastic_knots.SphericalShellConstraint(stiffness=1, center=[0.1, 0.3, 0.5], upper_d=0.002, lower_d=0.001),\n",
    "    elastic_knots.FlatnessConstraint(stiffness=1, n=[1, 2, 3], center=[0.1, 0.3, 0.5], upper_d=100.2, lower_d=100.1),    # Test point out of upper bound\n",
    "    elastic_knots.SphericalShellConstraint(stiffness=1, center=[0.1, 0.3, 0.5], upper_d=100.2, lower_d=100.1),\n",
    "    elastic_knots.VolumeConstraint(stiffness=1, aspectRatio=[1, 4, 7]),\n",
    "]\n",
    "problem.addSoftConstraints(softConstraints)\n",
    "\n",
    "problem.updateConstraintSet()  # must be called if `contactType` is `IPC`\n",
    "\n",
    "# Perturb dofs\n",
    "# dofs = problem.getVars()\n",
    "# firstModDofIdx = 50\n",
    "# lastModDofIdx = 68\n",
    "# maxDX = np.max(np.diff(boundingBox(rod_list), axis=0)[0])\n",
    "# modDofs = dofs[firstModDofIdx:lastModDofIdx] + 1e-2*maxDX*np.random.rand(lastModDofIdx-firstModDofIdx)\n",
    "# newDofs = np.hstack((dofs[0:firstModDofIdx], modDofs, dofs[lastModDofIdx::]))\n",
    "# problem.setVars(newDofs)\n",
    "# np.random.seed(0)\n",
    "# problem.setVars(problem.getVars() + 1e-2*R*np.random.rand(problem.numVars()))\n",
    "# rod_list.updateSourceFrame()\n",
    "\n",
    "# Visualise rod\n",
    "width, height = 640, 480\n",
    "# view = Viewer(pr0, width=width, height=height)\n",
    "viewBlockDeriv = Viewer(rod_list, width=width, height=height)\n",
    "viewVectorsBlockDeriv = PointCloudViewer(boundingBox(rod_list), width=width, height=height, superView=viewBlockDeriv)\n",
    "viewBlockDeriv.setCameraParams(((0.09155447828665847, -4.9286913312058065, 0.8364326268160376),\n",
    "(-0.004680304182667601, 0.1672282372596419, 0.9859071008040222),\n",
    "(0.0, 0.0, 0.0)))\n",
    "viewBlockDeriv.show()"
   ]
  },
  {
   "cell_type": "code",
   "execution_count": 4,
   "metadata": {},
   "outputs": [
    {
     "data": {
      "text/plain": [
       "<ContactType.IPC: 1>"
      ]
     },
     "execution_count": 4,
     "metadata": {},
     "output_type": "execute_result"
    }
   ],
   "source": [
    "problemOptions.contactType"
   ]
  },
  {
   "cell_type": "code",
   "execution_count": 5,
   "metadata": {},
   "outputs": [
    {
     "data": {
      "text/plain": [
       "240"
      ]
     },
     "execution_count": 5,
     "metadata": {},
     "output_type": "execute_result"
    }
   ],
   "source": [
    "pr0.hessianSparsityPattern().nz"
   ]
  },
  {
   "cell_type": "code",
   "execution_count": 6,
   "metadata": {},
   "outputs": [
    {
     "data": {
      "text/plain": [
       "240"
      ]
     },
     "execution_count": 6,
     "metadata": {},
     "output_type": "execute_result"
    }
   ],
   "source": [
    "pr0.hessian().nz"
   ]
  },
  {
   "cell_type": "code",
   "execution_count": 7,
   "metadata": {},
   "outputs": [
    {
     "data": {
      "text/plain": [
       "392"
      ]
     },
     "execution_count": 7,
     "metadata": {},
     "output_type": "execute_result"
    }
   ],
   "source": [
    "pr1.hessianSparsityPattern().nz"
   ]
  },
  {
   "cell_type": "code",
   "execution_count": 8,
   "metadata": {},
   "outputs": [
    {
     "data": {
      "text/plain": [
       "392"
      ]
     },
     "execution_count": 8,
     "metadata": {},
     "output_type": "execute_result"
    }
   ],
   "source": [
    "pr1.hessian().nz"
   ]
  },
  {
   "cell_type": "code",
   "execution_count": 9,
   "metadata": {},
   "outputs": [
    {
     "data": {
      "text/plain": [
       "632"
      ]
     },
     "execution_count": 9,
     "metadata": {},
     "output_type": "execute_result"
    }
   ],
   "source": [
    "rod_list.hessianSparsityPattern().nz"
   ]
  },
  {
   "cell_type": "code",
   "execution_count": 10,
   "metadata": {},
   "outputs": [
    {
     "data": {
      "text/plain": [
       "632"
      ]
     },
     "execution_count": 10,
     "metadata": {},
     "output_type": "execute_result"
    }
   ],
   "source": [
    "rod_list.hessian().nz"
   ]
  },
  {
   "cell_type": "code",
   "execution_count": 11,
   "metadata": {},
   "outputs": [
    {
     "data": {
      "text/plain": [
       "740"
      ]
     },
     "execution_count": 11,
     "metadata": {},
     "output_type": "execute_result"
    }
   ],
   "source": [
    "problem.hessianSparsityPattern().nz"
   ]
  },
  {
   "cell_type": "code",
   "execution_count": 12,
   "metadata": {},
   "outputs": [
    {
     "data": {
      "text/plain": [
       "<sparse_matrices.TripletMatrix at 0x7f09a09447f0>"
      ]
     },
     "execution_count": 12,
     "metadata": {},
     "output_type": "execute_result"
    }
   ],
   "source": [
    "problem.hessian()"
   ]
  },
  {
   "cell_type": "code",
   "execution_count": 4,
   "metadata": {},
   "outputs": [
    {
     "data": {
      "image/png": "[encoded data removed]",
      "text/plain": [
       "<Figure size 432x288 with 1 Axes>"
      ]
     },
     "metadata": {
      "needs_background": "light"
     },
     "output_type": "display_data"
    }
   ],
   "source": [
    "# Test derivatives in random direction\n",
    "seed = 0\n",
    "np.random.seed(seed)\n",
    "direction = np.random.uniform(-1, 1, problem.numVars())\n",
    "# v = problem.numVars()-1; direction = np.zeros(problem.numVars()); direction[v] = 1.0;  # test single component\n",
    "finite_diff.gradient_convergence_plot(problem, direction=direction)\n",
    "finite_diff.hessian_convergence_plot(problem, direction=direction)"
   ]
  },
  {
   "cell_type": "code",
   "execution_count": 5,
   "metadata": {},
   "outputs": [
    {
     "data": {
      "image/png": "[encoded data removed]",
      "text/plain": [
       "<Figure size 720x720 with 1 Axes>"
      ]
     },
     "metadata": {
      "needs_background": "light"
     },
     "output_type": "display_data"
    }
   ],
   "source": [
    "# Hessian sparsity pattern\n",
    "hessianRod0 = pr0.hessianSparsityPattern(1.0).toSciPy()\n",
    "hessianRod1 = pr1.hessianSparsityPattern(1.0).toSciPy()\n",
    "# hessianContact = contact.hessianSparsityPattern(1.0).toSciPy()\n",
    "hessianProblem = problem.hessianSparsityPattern().toSciPy()  # problem's hessian\n",
    "hessianProblem.data[:] = 1  # fill with ones\n",
    "\n",
    "# South-East shift rod 1\n",
    "from scipy.sparse import csr_matrix\n",
    "nv = problem.numVars()\n",
    "mat = np.zeros((nv, nv))\n",
    "upperLeft = rod_list.firstGlobalDofIndexInRod(1)\n",
    "lowerRight = upperLeft + rod_list.numDoFInRod(1)\n",
    "mat[upperLeft:lowerRight, upperLeft:lowerRight] = hessianRod1.todense()\n",
    "hessianRod1 = csr_matrix(mat)\n",
    "\n",
    "fig, ax = plt.subplots(figsize=(10, 10))\n",
    "ax.spy(hessianRod0,    **{'c': 'C0',  'ms': 5, 'label': 'Rod 0'})\n",
    "ax.spy(hessianRod1,    **{'c': 'C2',  'ms': 5, 'label': 'Rod 1'})\n",
    "# ax.spy(hessianContact, **{'c': 'red', 'ms': 3, 'label': 'Contact'})\n",
    "ax.spy(hessianProblem, **{'c': 'k',   'ms': 1, 'label': 'Problem'})\n",
    "ax.legend()\n",
    "ax.set_title('Hessian\\'s sparsity pattern')\n",
    "\n",
    "plt.show()"
   ]
  },
  {
   "cell_type": "code",
   "execution_count": 16,
   "metadata": {},
   "outputs": [],
   "source": [
    "# from elastic_rods import EnergyType\n",
    "\n",
    "# def hessian_convergence_block_plot(problem, var_types, var_indices, etype=EnergyType.Full):\n",
    "#     \"\"\"\n",
    "#     Adapted from finite_diff, modified to support problem object with additional material variables.\n",
    "#     \"\"\"\n",
    "#     grad = problem.gradient()\n",
    "#     perturb = np.random.normal(0, 1, len(grad))\n",
    "#     numVarTypes = len(var_types) - 1\n",
    "#     epsilons = np.logspace(np.log10(1e-12), np.log10(1e-2), 50)\n",
    "#     fig = plt.figure(figsize=(16, 12))\n",
    "#     for i, vi in enumerate(var_types[1:]):\n",
    "#         for j, vj in enumerate(var_types[1:]):\n",
    "#             plt.subplot(numVarTypes, numVarTypes, i * numVarTypes + j + 1)\n",
    "#             errors = [finite_diff.block_error(\n",
    "#                 problem, var_indices, vi, vj, grad, etype, eps, perturb, \n",
    "#                 variableDesignParameters=False, perSegmentRestLen=False, hessianVectorProduct=False\n",
    "#             )[0] for eps in epsilons]\n",
    "#             plt.loglog(epsilons, errors)\n",
    "#             plt.title(f'({vi}, {vj}) block')\n",
    "#             plt.grid()\n",
    "#             plt.tight_layout()\n",
    "# #     plt.savefig(plot_name, dpi = 300)\n",
    "#     plt.show()\n",
    "    \n",
    "\n",
    "# first = 9\n",
    "# last = 12\n",
    "\n",
    "# var_types = ['FULL', 'block']\n",
    "# var_indices = {'FULL': range(0, rod_list[0].numDoF()),\n",
    "#                'block': range(first, last+1),\n",
    "# }\n",
    "# hessian_convergence_block_plot(problem, var_types, var_indices)"
   ]
  },
  {
   "cell_type": "markdown",
   "metadata": {},
   "source": [
    "Test `ipc-toolkit` bindings"
   ]
  },
  {
   "cell_type": "code",
   "execution_count": null,
   "metadata": {},
   "outputs": [],
   "source": [
    "# sys.path.append('../3rdparty/ipc-toolkit/build/lib.linux-x86_64-3.8')\n",
    "# import ipctk"
   ]
  },
  {
   "cell_type": "code",
   "execution_count": null,
   "metadata": {},
   "outputs": [],
   "source": [
    "# cs = problem.constraintSet"
   ]
  },
  {
   "cell_type": "code",
   "execution_count": null,
   "metadata": {},
   "outputs": [],
   "source": [
    "# cs.size()"
   ]
  },
  {
   "cell_type": "code",
   "execution_count": null,
   "metadata": {},
   "outputs": [],
   "source": [
    "# cs.ee_constraints"
   ]
  },
  {
   "cell_type": "markdown",
   "metadata": {},
   "source": [
    "<a id='sec:derivatives_blocks_sliding'></a>\n",
    "## Test derivatives (sliding contacts)"
   ]
  },
  {
   "cell_type": "code",
   "execution_count": null,
   "metadata": {},
   "outputs": [],
   "source": [
    "# Define rod\n",
    "R = 1\n",
    "rod_radius = 0.1\n",
    "z_noise = 1e-5*R\n",
    "twist = 1e-1\n",
    "material = elastic_rods.RodMaterial('ellipse', 2000, 0.3, [rod_radius, rod_radius])\n",
    "pr0 = define_periodic_circle(npts=6, material=material, R=R, z_noise=z_noise)\n",
    "pr1 = define_periodic_circle(npts=10, material=material, R=R, trans=np.array([0.8*R, 0, 2*rod_radius]), z_noise=z_noise)\n",
    "pr0.twist = twist\n",
    "pr1.twist = twist\n",
    "rod_list = elastic_knots.PeriodicRodsList([pr0, pr1])\n",
    "npts = rod_list.numVertices()"
   ]
  },
  {
   "cell_type": "code",
   "execution_count": null,
   "metadata": {},
   "outputs": [],
   "source": [
    "# Define contact\n",
    "contactOptions = elastic_knots.SlidingContactOptions()\n",
    "contactOptions.stiffness = 1e5\n",
    "contactOptions.stiffTang = 1e5\n",
    "contactOptions.eps = 1e-1\n",
    "contactOptions.energyType = elastic_knots.ContactEnergyType.IPCBarrier\n",
    "contactOptions.dHat = 3*rod_radius  # make sure the barrier is active in the configuration we are testing\n",
    "contactOptions.xi = 1e-7\n",
    "matVars = [4.8*R, 3.8*R]\n",
    "rodsIndices = [0, 1]\n",
    "contact = elastic_knots.SlidingContact(rod_list, rodsIndices, matVars, contactOptions)\n",
    "\n",
    "# Define problem\n",
    "initialContacts = [contact]\n",
    "problemOptions = elastic_knots.SlidingProblemOptions()\n",
    "problemOptions.contactType = elastic_knots.ContactType.Sliding\n",
    "problem = elastic_knots.SlidingProblem(rod_list, initialContacts, problemOptions, contactOptions)\n",
    "\n",
    "# problem.updateConstraintSet()  # must be called if `contactType` is `IPC`\n",
    "\n",
    "# Perturb dofs\n",
    "# dofs = problem.getVars()\n",
    "# firstModDofIdx = 50\n",
    "# lastModDofIdx = 68\n",
    "# maxDX = np.max(np.diff(boundingBox(rod_list), axis=0)[0])\n",
    "# modDofs = dofs[firstModDofIdx:lastModDofIdx] + 1e-2*maxDX*np.random.rand(lastModDofIdx-firstModDofIdx)\n",
    "# newDofs = np.hstack((dofs[0:firstModDofIdx], modDofs, dofs[lastModDofIdx::]))\n",
    "# problem.setVars(newDofs)\n",
    "# np.random.seed(0)\n",
    "# problem.setVars(problem.getVars() + 1e-2*R*np.random.rand(problem.numVars()))\n",
    "# rod_list.updateSourceFrame()\n",
    "\n",
    "# Visualise rod\n",
    "width, height = 640, 480\n",
    "# view = Viewer(pr0, width=width, height=height)\n",
    "viewBlockDeriv = Viewer(rod_list, width=width, height=height)\n",
    "viewVectorsBlockDeriv = PointCloudViewer(boundingBox(rod_list), width=width, height=height, superView=viewBlockDeriv)\n",
    "viewBlockDeriv.setCameraParams(((0.09155447828665847, -4.9286913312058065, 0.8364326268160376),\n",
    "(-0.004680304182667601, 0.1672282372596419, 0.9859071008040222),\n",
    "(0.0, 0.0, 0.0)))\n",
    "viewBlockDeriv.show()"
   ]
  },
  {
   "cell_type": "code",
   "execution_count": null,
   "metadata": {},
   "outputs": [],
   "source": [
    "# Visualise contact\n",
    "contactEdges = np.zeros((npts + rod_list.numRods(),))\n",
    "for i in range(rod_list.numRods()):\n",
    "    contactEdges[rod_list.firstGlobalEdgeIndexInRod(i)] = 1.0  # first edges are red\n",
    "    contactEdges[rod_list.firstGlobalEdgeIndexInRod(i)] = 1.0  # last ones (overlapped, only for visualization) are red, too\n",
    "contactEdges[contact.contactIdx(0)] = .75             # over contact edge is orange\n",
    "contactEdges[contact.contactIdx(1)] = .25             # over contact edge is cyan\n",
    "contactEdges = periodic_scalar_field(contactEdges, rod_list)\n",
    "viewBlockDeriv.update(mesh=rod_list, preserveExisting=False, scalarField=contactEdges)\n",
    "\n",
    "# Visualise normal\n",
    "vectorPoints = contact.slidingNode(0).reshape((-1, 3))\n",
    "vectors = contact.unitaryContactNormal().reshape((-1, 3))\n",
    "# vectors = np.append(vectors, np.array([0, 0, 2]).reshape((-1, 3)), axis=0)  # add red arrow to origin, contact normal is scaled to green\n",
    "# vectorPoints = np.append(vectorPoints, np.array([0, 0, 0]).reshape((-1, 3)), axis=0)\n",
    "viewVectorsBlockDeriv.update(mesh=PointCloudMesh(vectorPoints), vectorField=vectors)"
   ]
  },
  {
   "cell_type": "code",
   "execution_count": null,
   "metadata": {},
   "outputs": [],
   "source": [
    "# DoF indices\n",
    "im3, i, ip3, ip6 = contact.stencilDofs(0)\n",
    "jm3, j, jp3, jp6 = contact.stencilDofs(1)\n",
    "ndofs = problem.numVars()\n",
    "u = ndofs - 2\n",
    "v = ndofs - 1"
   ]
  },
  {
   "cell_type": "code",
   "execution_count": null,
   "metadata": {},
   "outputs": [],
   "source": [
    "# Test derivatives in random direction\n",
    "seed = 0\n",
    "np.random.seed(seed)\n",
    "direction = np.random.uniform(-1, 1, problem.numVars())\n",
    "direction = np.zeros(problem.numVars()); direction[v] = 1.0;  # test single component\n",
    "finite_diff.gradient_convergence_plot(problem, direction=direction)\n",
    "finite_diff.hessian_convergence_plot(problem, direction=direction)"
   ]
  },
  {
   "cell_type": "code",
   "execution_count": null,
   "metadata": {},
   "outputs": [],
   "source": [
    "# Hessian sparsity pattern\n",
    "hessianRod0 = pr0.hessianSparsityPattern(1.0).toSciPy()\n",
    "hessianRod1 = pr1.hessianSparsityPattern(1.0).toSciPy()\n",
    "hessianContact = contact.hessianSparsityPattern(1.0).toSciPy()\n",
    "hessianProblem = problem.hessianSparsityPattern().toSciPy()  # problem's hessian\n",
    "hessianProblem.data[:] = 1  # fill with ones\n",
    "\n",
    "# South-East shift rod 1\n",
    "from scipy.sparse import csr_matrix\n",
    "nv = problem.numVars()\n",
    "mat = np.zeros((nv, nv))\n",
    "upperLeft = rod_list.firstGlobalDofIndexInRod(1)\n",
    "lowerRight = upperLeft + rod_list.numDoFInRod(1)\n",
    "mat[upperLeft:lowerRight, upperLeft:lowerRight] = hessianRod1.todense()\n",
    "hessianRod1 = csr_matrix(mat)\n",
    "\n",
    "fig, ax = plt.subplots(figsize=(10, 10))\n",
    "ax.spy(hessianRod0,    **{'c': 'C0',  'ms': 5, 'label': 'Rod 0'})\n",
    "ax.spy(hessianRod1,    **{'c': 'C2',  'ms': 5, 'label': 'Rod 1'})\n",
    "ax.spy(hessianContact, **{'c': 'red', 'ms': 3, 'label': 'Contact'})\n",
    "# ax.spy(hessianProblem, **{'c': 'k',   'ms': 1, 'label': 'Problem'})\n",
    "ax.legend()\n",
    "ax.set_title('Hessian\\'s sparsity pattern')\n",
    "\n",
    "plt.show()"
   ]
  },
  {
   "cell_type": "code",
   "execution_count": null,
   "metadata": {},
   "outputs": [],
   "source": [
    "from elastic_rods import EnergyType\n",
    "\n",
    "def hessian_convergence_block_plot(problem, var_types, var_indices, etype=EnergyType.Full):\n",
    "    \"\"\"\n",
    "    Adapted from finite_diff, modified to support problem object with additional material variables.\n",
    "    \"\"\"\n",
    "    grad = problem.gradient()\n",
    "    perturb = np.random.normal(0, 1, len(grad))\n",
    "    numVarTypes = len(var_types) - 1\n",
    "    epsilons = np.logspace(np.log10(1e-12), np.log10(1e-2), 50)\n",
    "    fig = plt.figure(figsize=(16, 12))\n",
    "    for i, vi in enumerate(var_types[1:]):\n",
    "        for j, vj in enumerate(var_types[1:]):\n",
    "            plt.subplot(numVarTypes, numVarTypes, i * numVarTypes + j + 1)\n",
    "            errors = [finite_diff.block_error(\n",
    "                problem, var_indices, vi, vj, grad, etype, eps, perturb, \n",
    "                variableDesignParameters=False, perSegmentRestLen=False, hessianVectorProduct=False\n",
    "            )[0] for eps in epsilons]\n",
    "            plt.loglog(epsilons, errors)\n",
    "            plt.title(f'({vi}, {vj}) block')\n",
    "            plt.grid()\n",
    "            plt.tight_layout()\n",
    "#     plt.savefig(plot_name, dpi = 300)\n",
    "    plt.show()"
   ]
  },
  {
   "cell_type": "code",
   "execution_count": null,
   "metadata": {},
   "outputs": [],
   "source": [
    "var_types = ['FULL', 'i-3', 'i', 'i+3', 'i+6', 'j-3', 'j', 'j+3', 'j+6', 'u', 'v']\n",
    "var_indices = {'FULL': range(0, rod_list[0].numDoF()),\n",
    "               'i-3': range(im3, im3+3),\n",
    "               'i'  : range(i,   i  +3),\n",
    "               'i+3': range(ip3, ip3+3),\n",
    "               'i+6': range(ip6, ip6+3),\n",
    "               'j-3': range(jm3, jm3+3),\n",
    "               'j'  : range(j,   j  +3),\n",
    "               'j+3': range(jp3, jp3+3),\n",
    "               'j+6': range(jp6, jp6+3),\n",
    "               'u':   range(u,   u+1),\n",
    "               'v':   range(v,   v+1)}\n",
    "hessian_convergence_block_plot(problem, var_types, var_indices)"
   ]
  },
  {
   "cell_type": "code",
   "execution_count": null,
   "metadata": {},
   "outputs": [],
   "source": [
    "var_types = ['FULL', 'i-3', 'i', 'j-3', 'j']\n",
    "var_indices = {'FULL': range(0, rod_list[0].numDoF()),\n",
    "               'i-3': range(im3, im3+3),\n",
    "               'i'  : range(i,   i  +3),\n",
    "#                'i+3': range(ip3, ip3+3),\n",
    "#                'i+6': range(ip6, ip6+3),\n",
    "               'j-3': range(jm3, jm3+3),\n",
    "               'j'  : range(j,   j  +3),\n",
    "#                'j+3': range(jp3, jp3+3),\n",
    "#                'j+6': range(jp6, jp6+3),\n",
    "               }\n",
    "hessian_convergence_block_plot(problem, var_types, var_indices)"
   ]
  },
  {
   "cell_type": "code",
   "execution_count": null,
   "metadata": {},
   "outputs": [],
   "source": [
    "var_types = ['FULL', 'i-3', 'i', 'i+3', 'i+6', 'j-3', 'j', 'j+3', 'j+6']\n",
    "var_indices = {'FULL': range(0, rod_list[0].numDoF()),\n",
    "               'i-3': range(im3, im3+3),\n",
    "               'i'  : range(i,   i  +3),\n",
    "               'i+3': range(ip3, ip3+3),\n",
    "               'i+6': range(ip6, ip6+3),\n",
    "               'j-3': range(jm3, jm3+3),\n",
    "               'j'  : range(j,   j  +3),\n",
    "               'j+3': range(jp3, jp3+3),\n",
    "               'j+6': range(jp6, jp6+3),\n",
    "               }\n",
    "hessian_convergence_block_plot(problem, var_types, var_indices)"
   ]
  },
  {
   "cell_type": "code",
   "execution_count": null,
   "metadata": {},
   "outputs": [],
   "source": [
    "var_types = ['FULL', 'j-3', 'j', 'j+3', 'j+6'] #, 'u', 'v']\n",
    "var_indices = {'FULL': range(0, rod_list[0].numDoF()),\n",
    "               'j-3': range(jm3, jm3+3),\n",
    "               'j'  : range(j,   j  +3),\n",
    "               'j+3': range(jp3, jp3+3),\n",
    "               'j+6': range(jp6, jp6+3),\n",
    "#                'u':   range(u,   u+1),\n",
    "#                'v':   range(v,   v+1)\n",
    "}\n",
    "hessian_convergence_block_plot(problem, var_types, var_indices)"
   ]
  },
  {
   "cell_type": "code",
   "execution_count": null,
   "metadata": {},
   "outputs": [],
   "source": [
    "var_types = ['FULL', 'i-3', 'i', 'i+3', 'i+6'] #, 'u', 'v']\n",
    "var_indices = {'FULL': range(0, rod_list[0].numDoF()),\n",
    "               'i-3': range(im3, im3+3),\n",
    "               'i'  : range(i,   i  +3),\n",
    "               'i+3': range(ip3, ip3+3),\n",
    "               'i+6': range(ip6, ip6+3),\n",
    "#                'u':   range(u,   u+1),\n",
    "#                'v':   range(v,   v+1)\n",
    "              }\n",
    "hessian_convergence_block_plot(problem, var_types, var_indices)"
   ]
  },
  {
   "cell_type": "code",
   "execution_count": null,
   "metadata": {},
   "outputs": [],
   "source": [
    "var_types = ['FULL', 'u', 'v']\n",
    "var_indices = {'FULL': range(0, rod_list[0].numDoF()),\n",
    "               'u':   range(u,   u+1),\n",
    "               'v':   range(v,   v+1)\n",
    "}\n",
    "hessian_convergence_block_plot(problem, var_types, var_indices)"
   ]
  },
  {
   "cell_type": "markdown",
   "metadata": {
    "jp-MarkdownHeadingCollapsed": true,
    "tags": []
   },
   "source": [
    "<a id='sec:derivatives_connection'></a>\n",
    "## Test derivatives when contact is close to the connection (sliding contacts)\n",
    "Initialize one of the sliding nodes approximately at the connection to check for eventual discontinuities"
   ]
  },
  {
   "cell_type": "code",
   "execution_count": 50,
   "metadata": {},
   "outputs": [],
   "source": [
    "R = 1\n",
    "rod_radius = 0.01\n",
    "npts0 = 40\n",
    "npts1 = 30\n",
    "material = elastic_rods.RodMaterial('ellipse', 2000, 0.3, [rod_radius, rod_radius])\n",
    "pr0 = define_periodic_circle(npts=npts0, material=material, R=R)\n",
    "pr1 = define_periodic_circle(npts=npts1, material=material, R=R, trans=np.array([2*R+rod_radius, 0, 2*rod_radius]))\n",
    "rod_list = elastic_knots.PeriodicRodsList([pr0, pr1])\n",
    "npts = rod_list.numVertices()"
   ]
  },
  {
   "cell_type": "code",
   "execution_count": 51,
   "metadata": {},
   "outputs": [],
   "source": [
    "# # Choose contact edges\n",
    "# edge0 = npts0-1 # 38\n",
    "# edge1 = 55 # 40\n",
    "\n",
    "# # Define contact\n",
    "# contactOptions = elastic_knots.SlidingContactOptions()\n",
    "# contactOptions.stiffness = 1e5\n",
    "# contactOptions.eps = 1e-1\n",
    "# rodsIndices = [rod_list.rodIndexFromGlobalEdgeIndex(edge0), rod_list.rodIndexFromGlobalEdgeIndex(edge1)]\n",
    "# matVars = compute_material_vars([edge0, edge1], rod_list)\n",
    "# dh = 1e-5\n",
    "# matVars[0] = np.cumsum(pr0.rod.restLengths())[-2] - dh  # move first sliding node very close to the connection\n",
    "# contact = elastic_knots.SlidingContact(rod_list, rodsIndices, matVars, contactOptions)"
   ]
  },
  {
   "cell_type": "code",
   "execution_count": 52,
   "metadata": {
    "tags": []
   },
   "outputs": [
    {
     "data": {
      "application/vnd.jupyter.widget-view+json": {
       "model_id": "c2e8469e4145441fa01ac33488362817",
       "version_major": 2,
       "version_minor": 0
      },
      "text/plain": [
       "Renderer(camera=PerspectiveCamera(aspect=1.3333333333333333, children=(PointLight(color='#999999', position=(0…"
      ]
     },
     "metadata": {},
     "output_type": "display_data"
    }
   ],
   "source": [
    "# Choose contact edges\n",
    "edge0 = npts0-1 # 38\n",
    "edge1 = 55 # 40\n",
    "\n",
    "# Define contact\n",
    "contactOptions = elastic_knots.SlidingContactOptions()\n",
    "contactOptions.stiffness = 1e5\n",
    "contactOptions.eps = 1e-1\n",
    "rodsIndices = [rod_list.rodIndexFromGlobalEdgeIndex(edge0), rod_list.rodIndexFromGlobalEdgeIndex(edge1)]\n",
    "matVars = compute_material_vars([edge0, edge1], rod_list)\n",
    "dh = 1e-5\n",
    "matVars[0] = np.cumsum(pr0.rod.restLengths())[-2] - dh  # move first sliding node very close to the connection\n",
    "contact = elastic_knots.SlidingContact(rod_list, rodsIndices, matVars, contactOptions)\n",
    "\n",
    "# Define problem\n",
    "initialContacts = [contact]\n",
    "problemOptions = elastic_knots.SlidingProblemOptions()\n",
    "problemOptions.contactType = elastic_knots.ContactType.Sliding\n",
    "problem = elastic_knots.SlidingProblem(rod_list, initialContacts, problemOptions, contactOptions)\n",
    "\n",
    "# Visualise rod\n",
    "width, height = 640, 480\n",
    "# view = Viewer(pr0, width=width, height=height)\n",
    "viewContacts2 = Viewer(rod_list, width=width, height=height)\n",
    "viewVectorsContacts2 = PointCloudViewer(boundingBox(rod_list), width=width, height=height, superView=viewContacts2)\n",
    "viewContacts2.show()"
   ]
  },
  {
   "cell_type": "code",
   "execution_count": 47,
   "metadata": {},
   "outputs": [
    {
     "name": "stdout",
     "output_type": "stream",
     "text": [
      "Contact edge: 39, Catmull-Rom stencil: [38, 39, 0, 1]\n",
      "Contact edge: 55, Catmull-Rom stencil: [54, 55, 56, 57]\n"
     ]
    }
   ],
   "source": [
    "print(\"Contact edge: \" + str(edge0) + \", Catmull-Rom stencil: \" + str(contact.stencilNodes(0)))\n",
    "print(\"Contact edge: \" + str(edge1) + \", Catmull-Rom stencil: \" + str(contact.stencilNodes(1)))"
   ]
  },
  {
   "cell_type": "code",
   "execution_count": 48,
   "metadata": {
    "tags": []
   },
   "outputs": [],
   "source": [
    "# Visualise contact\n",
    "contactEdges = np.zeros((npts + rod_list.numRods(),))\n",
    "contactEdges[[0, npts0]] = 1.0                        # first edges are red\n",
    "contactEdges[contact.contactIdx(0)] = .75             # over contact edge is orange\n",
    "contactEdges[contact.contactIdx(1)] = .25             # over contact edge is cyan\n",
    "extendedContactEdges = periodic_scalar_field(contactEdges, rod_list)\n",
    "viewContacts2.update(mesh=rod_list, preserveExisting=False, scalarField=extendedContactEdges)\n",
    "\n",
    "# Visualise normal\n",
    "vectorPoints = contact.slidingNode(0).reshape((-1, 3))\n",
    "vectors = contact.unitaryContactNormal().reshape((-1, 3))\n",
    "# vectors = np.append(vectors, np.array([0, 0, 2]).reshape((-1, 3)), axis=0)  # add red arrow to origin, contact normal is scaled to green\n",
    "# vectorPoints = np.append(vectorPoints, np.array([0, 0, 0]).reshape((-1, 3)), axis=0)\n",
    "viewVectorsContacts2.update(mesh=PointCloudMesh(vectorPoints), vectorField=vectors)"
   ]
  },
  {
   "cell_type": "code",
   "execution_count": 49,
   "metadata": {},
   "outputs": [
    {
     "data": {
      "image/png": "[encoded data removed]",
      "text/plain": [
       "<Figure size 432x288 with 1 Axes>"
      ]
     },
     "metadata": {
      "needs_background": "light"
     },
     "output_type": "display_data"
    }
   ],
   "source": [
    "np.random.seed(1)\n",
    "direction = np.random.uniform(-1, 1, problem.numVars())\n",
    "finite_diff.gradient_convergence_plot(problem, direction=direction)\n",
    "finite_diff.hessian_convergence_plot(problem, direction=direction)\n",
    "plt.vlines(4*dh, *plt.gca().get_ylim(), color='k')\n",
    "plt.show()"
   ]
  },
  {
   "cell_type": "markdown",
   "metadata": {},
   "source": [
    "<a id='sec:projection'></a>\n",
    "# Test $\\epsilon$-projection"
   ]
  },
  {
   "cell_type": "code",
   "execution_count": 41,
   "metadata": {},
   "outputs": [
    {
     "data": {
      "application/vnd.jupyter.widget-view+json": {
       "model_id": "53007bdc6c9d4d8cb64a9759ebe1757d",
       "version_major": 2,
       "version_minor": 0
      },
      "text/plain": [
       "Renderer(camera=PerspectiveCamera(aspect=1.3333333333333333, children=(PointLight(color='#999999', position=(0…"
      ]
     },
     "metadata": {},
     "output_type": "display_data"
    }
   ],
   "source": [
    "width, height = 640, 480\n",
    "# view = Viewer(pr0, width=width, height=height)\n",
    "viewProj = Viewer(rod_list, width=width, height=height)\n",
    "viewVectorsProj = PointCloudViewer(boundingBox(rod_list), width=width, height=height, superView=viewProj)\n",
    "# viewProj.setCameraParams(((0.09155447828665847, -4.9286913312058065, 0.8364326268160376),\n",
    "# (-0.004680304182667601, 0.1672282372596419, 0.9859071008040222),\n",
    "# (0.0, 0.0, 0.0)))\n",
    "viewProj.show()"
   ]
  },
  {
   "cell_type": "code",
   "execution_count": 42,
   "metadata": {},
   "outputs": [],
   "source": [
    "# Visualise contact\n",
    "contactEdges = np.zeros((npts + rod_list.numRods(),))\n",
    "for i in range(rod_list.numRods()):\n",
    "    contactEdges[rod_list.firstGlobalEdgeIndexInRod(i)] = 1.0  # first edges are red\n",
    "    contactEdges[rod_list.firstGlobalEdgeIndexInRod(i)] = 1.0  # last ones (overlapped, only for visualization) are red, too\n",
    "contactEdges[contact.contactIdx(0)] = .75             # over contact edge is orange\n",
    "contactEdges[contact.contactIdx(1)] = .25             # over contact edge is cyan\n",
    "contactEdges = periodic_scalar_field(contactEdges, rod_list)\n",
    "viewProj.update(mesh=rod_list, preserveExisting=False, scalarField=contactEdges)\n",
    "\n",
    "# Visualise normal\n",
    "vectorPoints = contact.slidingNode(0).reshape((-1, 3))\n",
    "vectors = contact.unitaryContactNormal().reshape((-1, 3))\n",
    "# vectors = np.append(vectors, np.array([0, 0, 2]).reshape((-1, 3)), axis=0)  # add red arrow to origin, contact normal is scaled to green\n",
    "# vectorPoints = np.append(vectorPoints, np.array([0, 0, 0]).reshape((-1, 3)), axis=0)\n",
    "viewVectorsProj.update(mesh=PointCloudMesh(vectorPoints), vectorField=vectors)"
   ]
  },
  {
   "cell_type": "code",
   "execution_count": 45,
   "metadata": {},
   "outputs": [
    {
     "data": {
      "image/png": "[encoded data removed]",
      "text/plain": [
       "<Figure size 432x288 with 1 Axes>"
      ]
     },
     "metadata": {
      "needs_background": "light"
     },
     "output_type": "display_data"
    }
   ],
   "source": [
    "# Effect of epsilon on the contact normal\n",
    "nSamples = 40\n",
    "zAngle = np.zeros(nSamples)\n",
    "epsilon = np.logspace(-.5, -15, nSamples)\n",
    "for i, eps in enumerate(epsilon):\n",
    "    # Change epsilon in normal definition\n",
    "    contactOptions.eps = eps\n",
    "    contact = elastic_knots.SlidingContact(rod_list, rodsIndices, matVars, contactOptions)\n",
    "    initialContacts = [contact]\n",
    "    problem = elastic_knots.SlidingProblem(rod_list, [contact], problemOptions, contactOptions)\n",
    "    zAngle[i] = np.arccos(contact.unitaryContactNormal()[2])\n",
    "\n",
    "fig, ax = plt.subplots()\n",
    "ax.semilogx(epsilon, zAngle)\n",
    "ax.set_xlabel('$\\epsilon$', fontsize=14)\n",
    "ax.set_ylabel(r'$\\theta$', fontsize=14)\n",
    "ax.set_ylim([0, np.pi+np.pi/6])\n",
    "ax.set_title('z-angle for different values of $\\epsilon$')\n",
    "plt.show()"
   ]
  },
  {
   "cell_type": "code",
   "execution_count": 61,
   "metadata": {},
   "outputs": [
    {
     "name": "stdout",
     "output_type": "stream",
     "text": [
      "ta x tb:  [-1.725292e-17 4.457860e-20 -1.070978e-01]\n",
      "w1:       [1.071123e-01 5.474767e-03 -1.725298e-17]\n",
      "w2:       [-1.019446e-01 1.994519e+00 1.725298e-17]\n",
      "Proj w1:  [-1.362420e-02 -6.963658e-04 2.194502e-18]\n",
      "Proj w2:  [-6.877266e-03 1.345518e-01 1.163900e-18]\n",
      "Normal:   [-1.186127e-09 -2.680273e-11 -2.000000e-02]\n"
     ]
    }
   ],
   "source": [
    "# Explicit computation of the epsilon-projection\n",
    "\n",
    "def P(v, eps=0):\n",
    "    v = v.reshape((-1, 1))\n",
    "    return v @ v.T / (np.linalg.norm(v)**2 + eps)\n",
    "\n",
    "eps = 1e-9\n",
    "# v = np.array([1.0, 1.0, -1.0])\n",
    "v = contact.slidingNodeOver() - contact.slidingNodeUnder()\n",
    "ta = contact.unitaryTangent(0)\n",
    "tb = contact.unitaryTangent(1)\n",
    "w1 = ta + tb\n",
    "w2 = ta - tb\n",
    "Pw1 = P(w1, eps)\n",
    "Pw2 = P(w2, eps)\n",
    "n = (np.eye(3) - Pw1 - Pw2) @ v\n",
    "print(\"ta x tb: \", np.cross(ta, tb))\n",
    "print(\"w1:      \", w1)\n",
    "print(\"w2:      \", w2)\n",
    "print(\"Proj w1: \", Pw1 @ v)\n",
    "print(\"Proj w2: \", Pw2 @ v)\n",
    "print(\"Normal:  \", n)\n",
    "\n",
    "vectorPoints = contact.slidingNode(0).reshape((-1, 3))\n",
    "vectorPoints = np.vstack((contact.slidingNode(0).reshape((-1, 3)), vectorPoints))\n",
    "vectorPoints = np.vstack((contact.slidingNode(0).reshape((-1, 3)), vectorPoints))\n",
    "# vectorPoints = np.vstack((contact.slidingNode(0).reshape((-1, 3)), vectorPoints))\n",
    "vectors = n / np.linalg.norm(n) / 1.4\n",
    "vectors = np.vstack((w1 / np.linalg.norm(w1) / 2, vectors))\n",
    "vectors = np.vstack((w2 / np.linalg.norm(w2) / 2, vectors))\n",
    "# vectors = np.vstack((contact.unitaryContactNormal().reshape((-1, 3)), vectors))\n",
    "viewVectorsProj.update(mesh=PointCloudMesh(vectorPoints), vectorField=vectors)\n",
    "viewProj.update(mesh=rod_list, preserveExisting=False, scalarField=contactEdges)"
   ]
  },
  {
   "cell_type": "markdown",
   "metadata": {
    "tags": []
   },
   "source": [
    "<a id='sec:cr_interp'></a>\n",
    "# Test Catmull-Rom interpolation"
   ]
  },
  {
   "cell_type": "markdown",
   "metadata": {},
   "source": [
    "### Catmull-Rom from Wikipedia"
   ]
  },
  {
   "cell_type": "code",
   "execution_count": 58,
   "metadata": {},
   "outputs": [],
   "source": [
    "import numpy\n",
    "import matplotlib.pyplot as plt\n",
    "\n",
    "def CatmullRomSpline(P0, P1, P2, P3, nPoints=5):\n",
    "    \"\"\"\n",
    "    P0, P1, P2, and P3 should be (x,y) point pairs that define the Catmull-Rom spline.\n",
    "    nPoints is the number of points to include in this curve segment.\n",
    "    \"\"\"\n",
    "    # Convert the points to numpy so that we can do array multiplication\n",
    "    P0, P1, P2, P3 = map(numpy.array, [P0, P1, P2, P3])\n",
    "\n",
    "    # Parametric constant: 0.5 for the centripetal spline, 0.0 for the uniform spline, 1.0 for the chordal spline.\n",
    "    alpha = 1.0\n",
    "    # Premultiplied power constant for the following tj() function.\n",
    "    alpha = alpha/2\n",
    "    def tj(ti, Pi, Pj):\n",
    "        xi, yi = Pi\n",
    "        xj, yj = Pj\n",
    "        return ((xj-xi)**2 + (yj-yi)**2)**alpha + ti\n",
    "\n",
    "    # Calculate t0 to t4\n",
    "    t0 = 0\n",
    "    t1 = tj(t0, P0, P1)\n",
    "    t2 = tj(t1, P1, P2)\n",
    "    t3 = tj(t2, P2, P3)\n",
    "\n",
    "    # Only calculate points between P1 and P2\n",
    "    t = numpy.linspace(t1, t2, nPoints)\n",
    "\n",
    "    # Reshape so that we can multiply by the points P0 to P3\n",
    "    # and get a point for each value of t.\n",
    "    t = t.reshape(len(t), 1)\n",
    "#     print(t)\n",
    "    A1 = (t1-t)/(t1-t0)*P0 + (t-t0)/(t1-t0)*P1\n",
    "    A2 = (t2-t)/(t2-t1)*P1 + (t-t1)/(t2-t1)*P2\n",
    "    A3 = (t3-t)/(t3-t2)*P2 + (t-t2)/(t3-t2)*P3\n",
    "    B1 = (t2-t)/(t2-t0)*A1 + (t-t0)/(t2-t0)*A2\n",
    "    B2 = (t3-t)/(t3-t1)*A2 + (t-t1)/(t3-t1)*A3\n",
    "\n",
    "    C = (t2-t)/(t2-t1)*B1 + (t-t1)/(t2-t1)*B2\n",
    "#     print(A1[0], A2[0], A3[0], B1[0], B2[0], C[0])\n",
    "    return C\n",
    "\n",
    "\n",
    "def CatmullRomChain(P):\n",
    "    \"\"\"\n",
    "    Calculate Catmull-Rom for a chain of points and return the combined curve.\n",
    "    \"\"\"\n",
    "    sz = len(P)\n",
    "\n",
    "    # The curve C will contain an array of (x, y) points.\n",
    "    C = []\n",
    "    nPointsPerSection = 5\n",
    "    for i in range(sz-3):\n",
    "        c = CatmullRomSpline(P[i], P[i+1], P[i+2], P[i+3], nPoints=nPointsPerSection)\n",
    "        if len(C) > 0 and np.linalg.norm(C[-1] - c[0]) < 1e-10:\n",
    "            c = c[1::]\n",
    "        C.extend(c)\n",
    "    return C"
   ]
  },
  {
   "cell_type": "markdown",
   "metadata": {},
   "source": [
    "### Check Catmull-Rom interpolation at the connection"
   ]
  },
  {
   "cell_type": "code",
   "execution_count": 59,
   "metadata": {},
   "outputs": [],
   "source": [
    "R = 1\n",
    "rod_radius = 0.01\n",
    "npts0 = 40\n",
    "npts1 = 30\n",
    "np.random.seed(1)\n",
    "material = elastic_rods.RodMaterial('ellipse', 2000, 0.3, [rod_radius, rod_radius])\n",
    "noise = 3e-2\n",
    "pr0 = define_periodic_circle(npts=npts0, material=material, R=R, xNoise=noise, yNoise=noise)\n",
    "pr1 = define_periodic_circle(npts=npts1, material=material, R=R, trans=np.array([2*R+rod_radius, 0, 2*rod_radius]))\n",
    "rod_list = elastic_knots.PeriodicRodsList([pr0, pr1])\n",
    "npts = rod_list.numVertices()\n",
    "\n",
    "# Choose contact edges\n",
    "edge0 = npts0-1\n",
    "edge1 = 55\n",
    "\n",
    "# Define contact\n",
    "contactOptions = elastic_knots.SlidingContactOptions()\n",
    "contactOptions.stiffness = 1e5\n",
    "contactOptions.eps = 1e-1\n",
    "rodsIndices = [rod_list.rodIndexFromGlobalEdgeIndex(edge0), rod_list.rodIndexFromGlobalEdgeIndex(edge1)]\n",
    "matVars = compute_material_vars([edge0, edge1], rod_list)\n",
    "# matVars[0] = np.cumsum(pr0.rod.restLengths())[-2] - 1e-5  # move first sliding node very close to the connection\n",
    "contact = elastic_knots.SlidingContact(rod_list, rodsIndices, matVars, contactOptions)"
   ]
  },
  {
   "cell_type": "code",
   "execution_count": 60,
   "metadata": {},
   "outputs": [
    {
     "name": "stdout",
     "output_type": "stream",
     "text": [
      "Max error:  6.661338147750939e-16\n"
     ]
    },
    {
     "data": {
      "image/png": "[encoded data removed]",
      "text/plain": [
       "<Figure size 648x648 with 1 Axes>"
      ]
     },
     "metadata": {
      "needs_background": "light"
     },
     "output_type": "display_data"
    }
   ],
   "source": [
    "dp = np.array(pr0.rod.deformedPoints())\n",
    "\n",
    "# C-R from Wikipedia\n",
    "Points = np.vstack((dp[-3, :], dp[:, :]))\n",
    "referenceCR = CatmullRomChain(Points[:, 0:2])\n",
    "x, y = zip(*referenceCR)\n",
    "\n",
    "# My C-R\n",
    "nPtsCR = len(referenceCR)\n",
    "nv = pr0.numVertices()\n",
    "ne = nv\n",
    "nPointsPerSection = int((nPtsCR - 1) / nv + 1)\n",
    "# Lrod = np.cumsum(pr0.rod.restLengths())[-2]\n",
    "refMatVars = np.append(0, np.cumsum(pr0.rod.restLengths()))\n",
    "pointsCR = []\n",
    "stencilNodes = []\n",
    "for ei in range(ne):\n",
    "    for u in np.linspace(refMatVars[ei], refMatVars[ei+1], nPointsPerSection):\n",
    "        matVars = [u, contact.materialVar(1)]\n",
    "        contact.setMaterialVars(matVars)\n",
    "        point = contact.slidingNode(0)\n",
    "        if (len(pointsCR) > 0 and np.linalg.norm(point - pointsCR[-1]) > 1e-10) or len(pointsCR) == 0:  # exclude duplicated nodes\n",
    "            pointsCR.append(point)\n",
    "            stencilNodes.append(contact.stencilNodes(0))\n",
    "pointsCR = np.array(pointsCR)[:, 0:2]\n",
    "\n",
    "print(\"Max error: \", np.max(np.abs(pointsCR - referenceCR)))\n",
    "\n",
    "fig, ax = plt.subplots(figsize=(9, 9))\n",
    "ax.plot(dp[:, 0], dp[:, 1], marker='.', markersize=30, linestyle='', label='DER nodes')\n",
    "ax.plot(x, y, marker='*', markersize=10, label='Reference Catmull-Rom')\n",
    "ax.plot(pointsCR[:, 0], pointsCR[:, 1], marker='.', label='My Catmull-Rom')\n",
    "ax.set_aspect('equal')\n",
    "ax.set_xlim([0.7, 1.1])\n",
    "ax.set_ylim([-0.4, 0.4])\n",
    "ax.legend()\n",
    "plt.show()"
   ]
  },
  {
   "cell_type": "markdown",
   "metadata": {},
   "source": [
    "<a id='sec:visualisation'></a>\n",
    "# Test visualisation"
   ]
  },
  {
   "cell_type": "code",
   "execution_count": null,
   "metadata": {},
   "outputs": [],
   "source": [
    "R = 1\n",
    "rod_radius = 0.01\n",
    "material = elastic_rods.RodMaterial('ellipse', 2000, 0.3, [rod_radius, rod_radius])\n",
    "pr0 = define_periodic_circle(npts=4, material=material, R=R)\n",
    "pr1 = define_periodic_circle(npts=3, material=material, R=R, trans=np.array([0.5, 0, 2*rod_radius]))\n",
    "rod_list = elastic_knots.PeriodicRodsList([pr0, pr1])\n",
    "\n",
    "width, height = 640, 480\n",
    "v = linkage_vis.LinkageViewer(rod_list, width, height)\n",
    "v.show()"
   ]
  },
  {
   "cell_type": "code",
   "execution_count": null,
   "metadata": {},
   "outputs": [],
   "source": [
    "# Test visualisation\n",
    "perEdgeScalarField = np.array([0, 1, 2, 3, 0, 6, 7, 8, 6])\n",
    "v.update(mesh=rod_list, preserveExisting=False, scalarField=perEdgeScalarField)\n",
    "time.sleep(1)\n",
    "\n",
    "perNodeScalarField = np.array([0, 1, 2, 3, 0, 1, 6, 7, 8, 6, 7])\n",
    "v.update(mesh=rod_list, preserveExisting=False, scalarField=perNodeScalarField)\n",
    "time.sleep(1)\n",
    "\n",
    "perEdgeVectorField = np.array([\n",
    "    [\n",
    "        [0,  1, 0],\n",
    "        [0,  1, 0],\n",
    "        [0,  1, 0],\n",
    "        [0,  1, 0],\n",
    "        [0,  1, 0],\n",
    "    ],\n",
    "    [\n",
    "        [0,  2, 0],\n",
    "        [0,  2, 0],\n",
    "        [0,  2, 0],\n",
    "        [0,  3, 0],\n",
    "    ]\n",
    "], dtype=object)\n",
    "v.update(mesh=rod_list, preserveExisting=False, vectorField=perEdgeVectorField)\n",
    "time.sleep(1)\n",
    "\n",
    "perNodeVectorField = np.array([\n",
    "    [\n",
    "        [0, 0, 11],\n",
    "        [0, 0, 12],\n",
    "        [0, 0, 13],\n",
    "        [0, 0, 14],\n",
    "        [0, 0, 15],\n",
    "        [0, 0, 16],\n",
    "    ],\n",
    "    [\n",
    "        [0,  11, 0],\n",
    "        [0,  12, 0],\n",
    "        [0,  13, 0],\n",
    "        [0,  14, 0],\n",
    "        [0,  15, 0],\n",
    "    ]\n",
    "], dtype=object)\n",
    "v.update(mesh=rod_list, preserveExisting=False, vectorField=perNodeVectorField)\n",
    "time.sleep(1)"
   ]
  },
  {
   "cell_type": "markdown",
   "metadata": {},
   "source": [
    "<a id='sec:optimization'></a>"
   ]
  },
  {
   "cell_type": "markdown",
   "metadata": {},
   "source": [
    "# Test optimization"
   ]
  },
  {
   "cell_type": "code",
   "execution_count": 53,
   "metadata": {},
   "outputs": [],
   "source": [
    "from helpers_knots import figureEight, generate_curve\n",
    "%run ./\"helpers_optimization.ipynb\""
   ]
  },
  {
   "cell_type": "code",
   "execution_count": 54,
   "metadata": {},
   "outputs": [
    {
     "data": {
      "application/vnd.jupyter.widget-view+json": {
       "model_id": "c7afd1e7bdf047b0833a1604d0c067b0",
       "version_major": 2,
       "version_minor": 0
      },
      "text/plain": [
       "Renderer(camera=PerspectiveCamera(aspect=1.6, children=(PointLight(color='#999999', position=(0.0, 0.0, 5.0), …"
      ]
     },
     "metadata": {},
     "output_type": "display_data"
    }
   ],
   "source": [
    "# Parametric knot\n",
    "twist = 0 * np.pi # 8*np.pi, 0*np.pi\n",
    "rod_radius = .5 # 0.1\n",
    "r = 5\n",
    "npts = 100\n",
    "material = elastic_rods.RodMaterial('ellipse', 2000, 0.3, [rod_radius, rod_radius])\n",
    "\n",
    "parametricCurve = figureEight(r)\n",
    "deformedConfig = generate_curve(parametricCurve, npts, 0, 2*np.pi)\n",
    "pr = define_periodic_rod(deformedConfig, material, twist=twist)\n",
    "\n",
    "rod_list = elastic_knots.PeriodicRodsList([pr])\n",
    "\n",
    "# View\n",
    "# width, height = 640, 480\n",
    "width, height = 1024, 640\n",
    "# width, height = 1536, 960\n",
    "view = Viewer(rod_list, width=width, height=height)\n",
    "viewVectors = PointCloudViewer(boundingBox(rod_list), width=width, height=height, superView=view)\n",
    "view.show()"
   ]
  },
  {
   "cell_type": "code",
   "execution_count": 55,
   "metadata": {
    "scrolled": true,
    "tags": []
   },
   "outputs": [
    {
     "name": "stdout",
     "output_type": "stream",
     "text": [
      "\u001b[32mArmijo condition satisfied.   \u001b[0m0\t121.491\t17.8469\t17.8469\t0.5\t1\n",
      "\u001b[32mArmijo condition satisfied.   \u001b[0m1\t109.101\t36.4567\t36.4567\t1\t0\n",
      "\u001b[32mArmijo condition satisfied.   \u001b[0m2\t96.6818\t14.1846\t14.1846\t0.5\t0\n",
      "\u001b[32mArmijo condition satisfied.   \u001b[0m3\t93.0375\t18.1484\t18.1484\t1\t0\n",
      "\u001b[32mArmijo condition satisfied.   \u001b[0m4\t89.0182\t9.99739\t9.99739\t0.484079\t0\n",
      "\u001b[32mArmijo condition satisfied.   \u001b[0m5\t87.5663\t10.0015\t10.0015\t0.980306\t0\n",
      "WARNING: unnormalized normal m ill defined (norm = 0.000000).\n",
      "\u001b[32mArmijo condition satisfied.   \u001b[0m6\t181.096\t131184\t131184\t1\t1\n",
      "WARNING: unnormalized normal m ill defined (norm = 0.000000).\n",
      "Tau running away\n",
      "||H||_2: -5.21858e+13\n",
      "||M||_2: 1\n",
      "Scaled tau: -1.661e+94\n",
      "7\t181.011\t1.52807e+06\t1.52807e+06\t1\t1\n"
     ]
    }
   ],
   "source": [
    "optimizerOptions, problemOptions, contactOptions = default_options()\n",
    "# activeContacts = []\n",
    "fixedVars = [rod_list[0].numDoF()-1, rod_list[0].thetaOffset(), 0, 1, 2, 3, 4, 5]\n",
    "# fixedVars = []\n",
    "\n",
    "# Optimize\n",
    "report = elastic_knots.compute_equilibrium(\n",
    "    rod_list, problemOptions, contactOptions, optimizerOptions, \n",
    "    fixedVars=fixedVars,\n",
    "    externalForces=np.zeros(rod_list.numDoF()),\n",
    "    initialContacts=[],\n",
    "    callback=callback_multi_rods_with_contacts\n",
    ")"
   ]
  },
  {
   "cell_type": "markdown",
   "metadata": {},
   "source": [
    "---\n",
    "# Test Julian's `PeriodicRod`"
   ]
  },
  {
   "cell_type": "markdown",
   "metadata": {},
   "source": [
    "### Finite Difference Validation"
   ]
  },
  {
   "cell_type": "code",
   "execution_count": null,
   "metadata": {},
   "outputs": [],
   "source": [
    "import fd_validation\n",
    "\n",
    "class FDWrapper:\n",
    "    def __init__(self, rod):\n",
    "        self.rod = rod\n",
    "    def numVars(self): return self.rod.numDoF()\n",
    "    def getVars(self): return self.rod.getDoFs()\n",
    "    def setVars(self, x): return self.rod.setDoFs(x)\n",
    "    def energy(self): return self.rod.energy()\n",
    "    def gradient(self): return self.rod.gradient(updatedSource=False)\n",
    "    def hessian(self): return self.rod.hessian()"
   ]
  },
  {
   "cell_type": "code",
   "execution_count": null,
   "metadata": {},
   "outputs": [],
   "source": [
    "pr.setDoFs(pr.getDoFs() + 1e-3 * fd_validation.genPerturbation(pr.getDoFs()))\n",
    "pr.rod.updateSourceFrame()"
   ]
  },
  {
   "cell_type": "code",
   "execution_count": null,
   "metadata": {},
   "outputs": [],
   "source": [
    "fd_validation.gradConvergencePlot(FDWrapper(pr))"
   ]
  },
  {
   "cell_type": "code",
   "execution_count": null,
   "metadata": {},
   "outputs": [],
   "source": [
    "fd_validation.hessConvergencePlot(FDWrapper(pr.rod))"
   ]
  },
  {
   "cell_type": "code",
   "execution_count": null,
   "metadata": {},
   "outputs": [],
   "source": [
    "wpr = FDWrapper(pr)\n",
    "fd_validation.hessConvergencePlot(wpr, perturb=fd_validation.basisDirection(wpr, 0))"
   ]
  },
  {
   "cell_type": "markdown",
   "metadata": {},
   "source": [
    "### Twist"
   ]
  },
  {
   "cell_type": "code",
   "execution_count": null,
   "metadata": {},
   "outputs": [],
   "source": [
    "import sys\n",
    "import sys; sys.path.append('../3rdparty/elastic_rods/python'); sys.path.append('../3rdparty/elastic_rods/3rdparty/MeshFEM/python')\n",
    "import elastic_rods\n",
    "import numpy as np\n",
    "from typing import NamedTuple\n",
    "from bending_validation import suppress_stdout as so"
   ]
  },
  {
   "cell_type": "code",
   "execution_count": null,
   "metadata": {},
   "outputs": [],
   "source": [
    "npts = 200"
   ]
  },
  {
   "cell_type": "code",
   "execution_count": null,
   "metadata": {},
   "outputs": [],
   "source": [
    "t = np.linspace(0, 2 * np.pi, npts-2, endpoint=False)\n",
    "t = np.concatenate([t, t[0:2]])"
   ]
  },
  {
   "cell_type": "code",
   "execution_count": null,
   "metadata": {},
   "outputs": [],
   "source": [
    "R = 40\n",
    "pts = np.column_stack([R * np.cos(t), R * np.sin(t), np.zeros_like(t)])"
   ]
  },
  {
   "cell_type": "code",
   "execution_count": null,
   "metadata": {},
   "outputs": [],
   "source": [
    "pr = elastic_rods.PeriodicRod(pts, True)\n",
    "# pr.setMaterial(elastic_rods.RodMaterial('rectangle', 4.0e10 / 1e6, 0.3, [1, 1], stiffAxis=elastic_rods.StiffAxis.D2))\n",
    "pr.setMaterial(elastic_rods.RodMaterial('ellipse',   4.0e10 / 1e6, 0.3, [1, 1]))"
   ]
  },
  {
   "cell_type": "code",
   "execution_count": null,
   "metadata": {},
   "outputs": [],
   "source": [
    "dc = pr.rod.deformedConfiguration()"
   ]
  },
  {
   "cell_type": "code",
   "execution_count": null,
   "metadata": {},
   "outputs": [],
   "source": [
    "Hsp = pr.hessianSparsityPattern(1.0)"
   ]
  },
  {
   "cell_type": "code",
   "execution_count": null,
   "metadata": {},
   "outputs": [],
   "source": [
    "import linkage_vis, vis\n",
    "import matplotlib"
   ]
  },
  {
   "cell_type": "code",
   "execution_count": null,
   "metadata": {},
   "outputs": [],
   "source": [
    "import time\n",
    "def updateView():\n",
    "    v.update()\n",
    "#     time.sleep(0.01)\n",
    "    cv2.update(vectorField=np.array([d.d2 for d in dc.materialFrame]))\n",
    "    refVF = vis.fields.VectorField(cv.mesh, np.array([d.d2 for d in dc.referenceDirectors]), colormap=matplotlib.cm.cool_r, glyph=vis.fields.VectorGlyph.CYLINDER)\n",
    "    cv.update(vectorField=refVF)"
   ]
  },
  {
   "cell_type": "code",
   "execution_count": null,
   "metadata": {},
   "outputs": [],
   "source": [
    "# width, height = 1024, 640\n",
    "width, height = 640, 480\n",
    "v = linkage_vis.LinkageViewer(pr, width, height)\n",
    "cv = linkage_vis.CenterlineViewer(pr.rod, superView=v, vectorField=np.array([d.d2 for d in dc.referenceDirectors]))\n",
    "cv2 = linkage_vis.CenterlineViewer(pr.rod, superView=v, vectorField=np.array([d.d2 for d in dc.materialFrame]))\n",
    "v.show()"
   ]
  },
  {
   "cell_type": "code",
   "execution_count": null,
   "metadata": {},
   "outputs": [],
   "source": [
    "# pr.twist = 8 * np.pi\n",
    "# elastic_rods.compute_equilibrium(pr, fixedVars=[pr.numDoF()-1, pr.thetaOffset(), 0, 1, 2, 3, 4, 5], callback=custom_callback)"
   ]
  },
  {
   "cell_type": "code",
   "execution_count": null,
   "metadata": {},
   "outputs": [],
   "source": [
    "pr.twist = 8 * np.pi\n",
    "# time.sleep(8)\n",
    "\n",
    "def custom_callback(prob, i):\n",
    "#     time.sleep(1)\n",
    "    updateView()\n",
    "    \n",
    "with so(): elastic_rods.compute_equilibrium(pr, fixedVars=[pr.numDoF()-1, pr.thetaOffset(), 0, 1, 2, 3, 4, 5], callback=custom_callback)"
   ]
  },
  {
   "cell_type": "markdown",
   "metadata": {},
   "source": [
    "# Test `ElasticRod` with collision detection\n",
    "(Not working, needs old interface for `ElasticRod`)"
   ]
  },
  {
   "cell_type": "code",
   "execution_count": null,
   "metadata": {},
   "outputs": [],
   "source": [
    "rod_radius = 1\n",
    "rodTwist = 8 * np.pi\n",
    "material = elastic_rods.RodMaterial('ellipse', 2e3, 0.3, [rod_radius, rod_radius])\n",
    "# material = elastic_rods.RodMaterial('rectangle', 4.0e10 / 1e6, 0.3, [1, 1], stiffAxis=elastic_rods.StiffAxis.D2)\n",
    "npts = nv = 200\n",
    "ne = nv - 1\n",
    "R = 40\n",
    "\n",
    "t = np.linspace(0, 2 * np.pi, npts-3, endpoint=False)\n",
    "t = np.concatenate([t, t[0:3]])\n",
    "deformedConfig = np.column_stack([R * np.cos(t), R * np.sin(t), np.zeros_like(t)])\n",
    "\n",
    "restLengths = np.linalg.norm(np.diff(deformedConfig, axis=0), axis=1)\n",
    "restConfig = np.zeros((npts, 3))\n",
    "for i in range(1, npts):\n",
    "    restConfig[i, :] = np.array([restConfig[i-1, 0] + restLengths[i-1], 0, 0])\n",
    "rod = elastic_rods.ElasticRod(restConfig)\n",
    "rod.setMaterial(material)\n",
    "\n",
    "rod.setDeformedConfiguration(deformedConfig, rod.thetas() + np.linspace(0, rodTwist + rodTwist / ne, ne))\n",
    "dc = rod.deformedConfiguration()"
   ]
  },
  {
   "cell_type": "code",
   "execution_count": null,
   "metadata": {},
   "outputs": [],
   "source": [
    "def updateView():\n",
    "    v.update()\n",
    "    time.sleep(0.01)\n",
    "    cv2.update(vectorField=np.array([d.d2 for d in dc.materialFrame]))\n",
    "    refVF = vis.fields.VectorField(cv.mesh, np.array([d.d2 for d in dc.referenceDirectors]), colormap=matplotlib.cm.cool_r, glyph=vis.fields.VectorGlyph.CYLINDER)\n",
    "    cv.update(vectorField=refVF)\n",
    "    \n",
    "v = linkage_vis.LinkageViewer(rod, width=1200, height=720)\n",
    "cv = linkage_vis.CenterlineViewer(rod, superView=v, vectorField=np.array([d.d2 for d in dc.referenceDirectors]))\n",
    "cv2 = linkage_vis.CenterlineViewer(rod, superView=v, vectorField=np.array([d.d2 for d in dc.materialFrame]))\n",
    "viewVectors = PointCloudViewer(boundingBox(rod), superView=v)\n",
    "updateView()\n",
    "v.show()"
   ]
  },
  {
   "cell_type": "code",
   "execution_count": null,
   "metadata": {
    "tags": []
   },
   "outputs": [],
   "source": [
    "optimizerOptions = elastic_knots.NewtonOptimizerOptions()\n",
    "optimizerOptions.niter = 1000\n",
    "optimizerOptions.verboseNonPosDef = False\n",
    "optimizerOptions.useIdentityMetric = True\n",
    "referenceStiffness = material.stretchingStiffness / rod.totalRestLength() * rod.numEdges()\n",
    "problemOptions = elastic_knots.SlidingProblemOptions()\n",
    "problemOptions.jointStiffness = 1e2 * referenceStiffness\n",
    "problemOptions.hasCollisions = True\n",
    "problemOptions.maxNewContactsPerIter = 10  # -1 to remove the bound\n",
    "problemOptions.spatialHashingCellSize = -1  # -1 for auto estimation: max(2*maxNodalDisplacement, maxEdgeLength)\n",
    "problemOptions.minCollisionDistance = 1e-7\n",
    "problemOptions.printIterInfo = False\n",
    "\n",
    "contactOptions = elastic_knots.SlidingContactOptions()\n",
    "contactOptions.stiffness = 1e-2 * referenceStiffness\n",
    "# contactOptions.thickness = True\n",
    "contactOptions.C1 = True\n",
    "contactOptions.maxAttractiveIters = 3  # -1 to make contacts persistent (no deactivation)\n",
    "contactOptions.minNumIters = 100"
   ]
  },
  {
   "cell_type": "code",
   "execution_count": null,
   "metadata": {},
   "outputs": [],
   "source": [
    "from history_helpers import *\n",
    "history = OptimizationHistory()\n",
    "\n",
    "def update_view_with_contacts(prob):\n",
    "    numContacts = len(prob.activeContacts)\n",
    "    vectorPoints = np.zeros((numContacts, 3))\n",
    "    vectors = np.zeros((numContacts, 3))\n",
    "    contactEdges = np.zeros((rod.numVertices()-1,))\n",
    "    contactEdges[0] = 1\n",
    "    contactEdges[-1] = 1\n",
    "    for cIdx, contact in enumerate(prob.activeContacts):\n",
    "        vectorPoints[cIdx, :] = contact.slidingNode(matVarIdx=int(not contact.firstEdgeOver))\n",
    "        vectors[cIdx, :] = contact.unitaryContactNormal()\n",
    "        contactEdges[contact.contactIdxOver()] = .75\n",
    "        contactEdges[contact.contactIdxUnder()] = .25\n",
    "\n",
    "#     vectorPoints[numContacts::, :] = np.array(rod.deformedPoints())[forcesNodalIndices]\n",
    "#     vectors[numContacts::, :] = viewerForces\n",
    "\n",
    "    if numContacts > 0:\n",
    "        vectors = np.append(vectors, np.array([0, 0, 2]).reshape((-1, 3)), axis=0)\n",
    "        vectorPoints = np.append(vectorPoints, np.array([0, 0, 0]).reshape((-1, 3)), axis=0)\n",
    "        viewVectors.update(mesh=PointCloudMesh(vectorPoints), vectorField=vectors)\n",
    "    v.update(mesh=rod, preserveExisting=False, scalarField=contactEdges)\n",
    "    \n",
    "#     v.update()\n",
    "    time.sleep(0.01)\n",
    "    cv2.update(vectorField=np.array([d.d2 for d in dc.materialFrame]))\n",
    "    refVF = vis.fields.VectorField(cv.mesh, np.array([d.d2 for d in dc.referenceDirectors]), colormap=matplotlib.cm.cool_r, glyph=vis.fields.VectorGlyph.CYLINDER)\n",
    "    cv.update(vectorField=refVF)\n",
    "    \n",
    "def custom_callback(prob, i):\n",
    "    history.update(prob, rod, i, record_contacts=True)\n",
    "#     time.sleep(.1)\n",
    "#     updateView()\n",
    "    update_view_with_contacts(prob)"
   ]
  },
  {
   "cell_type": "code",
   "execution_count": null,
   "metadata": {
    "scrolled": true,
    "tags": []
   },
   "outputs": [],
   "source": [
    "# time.sleep(8)\n",
    "\n",
    "# fixedVars = [0, 1, 2, 3, 4, 5, 3*nv-6, 3*nv-5, 3*nv-4, 3*nv-3, 3*nv-2, 3*nv-1]\n",
    "fixedVars = [0, 1, 2, 3, 4, 5, 3*nv-6, 3*nv-5, 3*nv-4, 3*nv-3, 3*nv-2, 3*nv-1, 3*nv, 4*nv-3]\n",
    "\n",
    "rod_list = elastic_knots.RodsList(rod)\n",
    "# report = elastic_knots.compute_knotted_rod_equilibrium(rod, problemOptions, optimizerOptions, fixedVars=fixedVars, externalForces=[], initialContacts=[], callback=custom_callback)\n",
    "report = elastic_knots.compute_equilibrium(rod_list, problemOptions, contactOptions, optimizerOptions, fixedVars=fixedVars, externalForces=[], initialContacts=[], callback=custom_callback)"
   ]
  },
  {
   "cell_type": "code",
   "execution_count": null,
   "metadata": {},
   "outputs": [],
   "source": [
    "fig, ax = plt.subplots()\n",
    "ax.plot(restConfig)\n",
    "plt.show()\n",
    "\n",
    "fig, ax = plt.subplots()\n",
    "ax.plot(deformedConfig)\n",
    "plt.show()"
   ]
  },
  {
   "cell_type": "code",
   "execution_count": null,
   "metadata": {},
   "outputs": [],
   "source": [
    "# rodTwist = 8*np.pi\n",
    "# rod.setDeformedConfiguration(rod.deformedPoints(), rod.thetas() + np.linspace(0, rodTwist, rod.numEdges()))\n",
    "# updateView()"
   ]
  }
 ],
 "metadata": {
  "kernelspec": {
   "display_name": "Python 3",
   "language": "python",
   "name": "python3"
  },
  "language_info": {
   "codemirror_mode": {
    "name": "ipython",
    "version": 3
   },
   "file_extension": ".py",
   "mimetype": "text/x-python",
   "name": "python",
   "nbconvert_exporter": "python",
   "pygments_lexer": "ipython3",
   "version": "3.10.4"
  }
 },
 "nbformat": 4,
 "nbformat_minor": 4
}
